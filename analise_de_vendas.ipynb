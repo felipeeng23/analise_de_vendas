{
  "nbformat": 4,
  "nbformat_minor": 0,
  "metadata": {
    "colab": {
      "provenance": [],
      "authorship_tag": "ABX9TyMtqjP2d5rzMlZVxwtt2iCz",
      "include_colab_link": true
    },
    "kernelspec": {
      "name": "python3",
      "display_name": "Python 3"
    },
    "language_info": {
      "name": "python"
    }
  },
  "cells": [
    {
      "cell_type": "markdown",
      "metadata": {
        "id": "view-in-github",
        "colab_type": "text"
      },
      "source": [
        "<a href=\"https://colab.research.google.com/github/felipeeng23/analise_de_vendas/blob/main/analise_de_vendas.ipynb\" target=\"_parent\"><img src=\"https://colab.research.google.com/assets/colab-badge.svg\" alt=\"Open In Colab\"/></a>"
      ]
    },
    {
      "cell_type": "markdown",
      "source": [
        "Análise de vendas em duas regiões."
      ],
      "metadata": {
        "id": "KHl_A0hozW5Y"
      }
    },
    {
      "cell_type": "code",
      "execution_count": null,
      "metadata": {
        "id": "dQ4JCp1Hy9S4"
      },
      "outputs": [],
      "source": [
        "# Dados das Vendas\n",
        "vendas_regiao_X = [150, 160, 155, 158, 165, 162, 155, 160, 157, 159, 160, 163, 158, 160, 161,\n",
        "                   159, 157, 162, 164, 161, 160, 160, 158, 157, 163, 161, 159, 160, 165, 157]\n",
        "vendas_regiao_Y = [100, 150, 80, 200, 120, 90, 170, 180, 140, 130, 110, 160, 210, 140, 130, 150, 190,\n",
        "                   110, 120, 150, 160, 200, 180, 170, 120, 150, 100, 180, 150, 170]"
      ]
    },
    {
      "cell_type": "code",
      "source": [
        "import numpy as np\n",
        "array_x=np.array(vendas_regiao_X)\n",
        "array_y=np.array(vendas_regiao_Y)\n",
        "\n",
        "#soma das vendas\n",
        "soma_x=np.sum(array_x)\n",
        "print('Soma da região X:', soma_x)\n",
        "soma_y=np.sum(array_y)\n",
        "print('Soma da região Y:', soma_y)\n",
        "\n",
        "#média das vendas\n",
        "media_x=np.mean(array_x)\n",
        "print('Média da região X:', media_x)\n",
        "media_y=np.mean(array_y)\n",
        "print('Média da região Y:', media_y)\n",
        "\n",
        "#desvio-padrão das vendas\n",
        "desvio_padrao_x=np.std(array_x)\n",
        "print('Desvio padrão da região X:', desvio_padrao_x)\n",
        "desvio_padrao_y=np.std(array_y)\n",
        "print('Desvio padrão da região Y:', desvio_padrao_y)\n",
        "\n",
        "#variância das vendas\n",
        "variancia_x=np.var(array_x)\n",
        "print('Variação da região X:', variancia_x)\n",
        "variancia_y=np.var(array_y)\n",
        "print('Variação da região Y:', variancia_y)\n",
        "\n",
        "#mediana das vendas\n",
        "mediana_x=np.median(array_x)\n",
        "print('Mediana da região X:', mediana_x)\n",
        "mediana_y=np.median(array_y)\n",
        "print('Mediana da região Y:', mediana_y)\n",
        "\n",
        "#valor máximo\n",
        "maximo_x=np.max(array_x)\n",
        "print('Valor máximo da região X:', maximo_x)\n",
        "maximo_y=np.max(array_y)\n",
        "print('Valor máximo da região Y:', maximo_y)\n",
        "\n",
        "#valor mínimo\n",
        "minimo_x=np.min(array_x)\n",
        "print('Valor mínimo da região X:', minimo_x)\n",
        "minimo_y=np.min(array_y)\n",
        "print('Valor mínimo da região Y:', minimo_y)"
      ],
      "metadata": {
        "colab": {
          "base_uri": "https://localhost:8080/"
        },
        "id": "zOjKs0BHziNA",
        "outputId": "1f4c5d3d-e829-469f-9a03-ebdaadf6a72e"
      },
      "execution_count": null,
      "outputs": [
        {
          "output_type": "stream",
          "name": "stdout",
          "text": [
            "Soma da região X: 4786\n",
            "Soma da região Y: 4410\n",
            "Média da região X: 159.53333333333333\n",
            "Média da região Y: 147.0\n",
            "Desvio padrão da região X: 3.1062660685924643\n",
            "Desvio padrão da região Y: 33.87722932393773\n",
            "Variação da região X: 9.648888888888886\n",
            "Variação da região Y: 1147.6666666666667\n",
            "Mediana da região X: 160.0\n",
            "Mediana da região Y: 150.0\n",
            "Valor máximo da região X: 165\n",
            "Valor máximo da região Y: 210\n",
            "Valor mínimo da região X: 150\n",
            "Valor mínimo da região Y: 80\n"
          ]
        }
      ]
    },
    {
      "cell_type": "code",
      "source": [
        "import matplotlib.pyplot as plt\n",
        "\n",
        "#Boxplot para Comparação Visual\n",
        "dados = [vendas_regiao_X, vendas_regiao_Y]\n",
        "plt.boxplot(dados, labels=['Região X', 'Região Y'])\n",
        "plt.title('Dispersão das Vendas - Região X vs Região Y')\n",
        "plt.ylabel('Vendas')\n",
        "plt.grid(True)\n",
        "plt.show()"
      ],
      "metadata": {
        "id": "eTNBKEVQ0P0T",
        "outputId": "58fa8ae3-bdb8-4046-a9d2-db4d7e624941",
        "colab": {
          "base_uri": "https://localhost:8080/",
          "height": 507
        }
      },
      "execution_count": null,
      "outputs": [
        {
          "output_type": "stream",
          "name": "stderr",
          "text": [
            "<ipython-input-4-929bb9623f62>:5: MatplotlibDeprecationWarning: The 'labels' parameter of boxplot() has been renamed 'tick_labels' since Matplotlib 3.9; support for the old name will be dropped in 3.11.\n",
            "  plt.boxplot(dados, labels=['Região X', 'Região Y'])\n"
          ]
        },
        {
          "output_type": "display_data",
          "data": {
            "text/plain": [
              "<Figure size 640x480 with 1 Axes>"
            ],
            "image/png": "[encoded data removed]"
          },
          "metadata": {}
        }
      ]
    }
  ]
}